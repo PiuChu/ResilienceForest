{
  "nbformat": 4,
  "nbformat_minor": 0,
  "metadata": {
    "colab": {
      "provenance": []
    },
    "kernelspec": {
      "name": "python3",
      "display_name": "Python 3"
    },
    "language_info": {
      "name": "python"
    }
  },
  "cells": [
    {
      "cell_type": "markdown",
      "source": [
        "This code processes and visualizes the change in valid NDVI pixels over time for a defined study area.\n",
        "\n",
        "Created on Tue July 23 2024\n",
        "\n",
        "# @author: Pius N.Nwachukwu"
      ],
      "metadata": {
        "id": "5KNWZ3ZhrSWY"
      }
    },
    {
      "cell_type": "code",
      "source": [
        "#  Masking and plotting the percentage of quality NDVI values across continents\n",
        "# This code processes and visualizes the change in valid NDVI pixels over time for a defined study area."
      ],
      "metadata": {
        "id": "ipYR826RuiGr"
      },
      "execution_count": null,
      "outputs": []
    },
    {
      "cell_type": "code",
      "execution_count": null,
      "metadata": {
        "id": "d9-PIPKtue_B"
      },
      "outputs": [],
      "source": [
        "# Install the Earth Engine API\n",
        "# !pip install earthengine-api\n",
        "\n",
        "# Import the Earth Engine library and authenticate\n",
        "import ee\n",
        "\n",
        "# Authenticate\n",
        "ee.Authenticate()\n",
        "\n",
        "# Initialize the library with your project ID.\n",
        "ee.Initialize(project='ee-')  # Replace 'your_project_id' with your actual project ID\n",
        "\n",
        "# Define a study area: an example bounding box (adjust coordinates as needed)\n",
        "study_area = ee.Geometry.Polygon([\n",
        "      # [[19.85, -3.16], [19.85, -1.31], [22.39, -1.31], [22.39, -3.16], [19.85, -3.16]]  # \"Africa\" Ensure the polygon is closed by repeating the first coordinate\n",
        "  # [[101.23, 29.02], [101.23, 29.54], [102.10, 29.54], [102.10, 29.02], [101.23, 29.02]] # \"Asia\"\n",
        "  # [[122.37, -33.08], [122.37, -32.49], [122.85, -32.49], [122.85, -33.08], [122.37, -33.08]]  # \"Aust_Ocean\"\n",
        "  # [[22.45, 45.12], [22.45, 45.47], [22.97, 45.47], [22.97, 45.12], [22.45, 45.12]]  # \"Europe\"\n",
        "  # [[-121.68, 48.02], [-121.68, 49.01], [-119.80, 49.01], [-119.80, 48.02], [-121.68, 48.02]]  # \"Nth_America\"\n",
        "  [[-60.70, -9.18], [-60.70, -7.56], [-58.42, -7.56], [-58.42, -9.18], [-60.70, -9.18]] # \"Sth_America\"\n",
        "])\n",
        "\n",
        "# Define the date range\n",
        "start_date = '2000-02-01'\n",
        "end_date = '2024-04-30'\n",
        "\n",
        "# Load MODIS NDVI data\n",
        "modis_ndvi = ee.ImageCollection('MODIS/061/MOD13A3') \\\n",
        "               .filterDate(start_date, end_date) \\\n",
        "               .filterBounds(study_area) \\\n",
        "               .select(['NDVI', 'SummaryQA'])\n",
        "\n",
        "# Function to calculate the percentage of valid NDVI pixels\n",
        "def calculate_valid_percentage(image):\n",
        "    # Mask invalid NDVI values based on the quality reliability\n",
        "    # Quality values 0, 1, 2, 3 indicate highest to lowest quality in MOD13A2\n",
        "    quality_mask = image.select('SummaryQA').lte(2)\n",
        "    valid_pixels = image.select('NDVI').updateMask(quality_mask).gt(-2000)\n",
        "\n",
        "    total_pixels = image.select('NDVI').unmask().reduceRegion(\n",
        "        reducer=ee.Reducer.count(),\n",
        "        geometry=study_area,\n",
        "        scale=1000,\n",
        "        maxPixels=1e9\n",
        "    ).values().get(0)\n",
        "\n",
        "    valid_pixel_count = valid_pixels.reduceRegion(\n",
        "        reducer=ee.Reducer.count(),\n",
        "        geometry=study_area,\n",
        "        scale=1000,\n",
        "        maxPixels=1e9\n",
        "    ).values().get(0)\n",
        "\n",
        "    percentage_valid = ee.Number(valid_pixel_count).divide(ee.Number(total_pixels)).multiply(100)\n",
        "    return image.set('percentage_valid', percentage_valid).set('date', image.date().format('YYYY-MM-dd'))\n",
        "\n",
        "# Apply the function to the image collection\n",
        "valid_percentages = modis_ndvi.map(calculate_valid_percentage)\n",
        "\n",
        "# Extract the dates and percentages separately\n",
        "dates = valid_percentages.aggregate_array('date').getInfo()\n",
        "percentages = valid_percentages.aggregate_array('percentage_valid').getInfo()\n",
        "\n",
        "# Combine the results into a list of dictionaries\n",
        "results = [{'date': date, 'percentage_valid': percentage} for date, percentage in zip(dates, percentages)]\n",
        "\n",
        "# Print the results\n",
        "print(results)\n",
        "\n",
        "# Visualization\n",
        "import matplotlib.pyplot as plt\n",
        "import datetime\n",
        "from matplotlib import dates as mdates\n",
        "\n",
        "# Extract dates and valid percentages\n",
        "dates = [entry['date'] for entry in results]\n",
        "valid_percentages = [entry['percentage_valid'] for entry in results]\n",
        "\n",
        "# Convert string dates to datetime objects\n",
        "dates = [datetime.datetime.strptime(date, '%Y-%m-%d') for date in dates]\n",
        "\n",
        "# Plot the results\n",
        "plt.figure(figsize=(12, 6))\n",
        "plt.plot(dates, valid_percentages, marker='o', linestyle='-')\n",
        "plt.xlabel('Date')\n",
        "plt.ylabel('Percentage of Valid NDVI Pixels (%)')\n",
        "plt.title('Change in Valid NDVI Pixels Over South_America from IFL2020')\n",
        "plt.grid(True)\n",
        "plt.gca().xaxis.set_major_locator(mdates.YearLocator()) #Show major ticks\n",
        "# Tilt x-axis labels\n",
        "plt.xticks(rotation=45, ha='right')\n",
        "\n",
        "# Show the plot\n",
        "plt.show()\n"
      ]
    }
  ]
}