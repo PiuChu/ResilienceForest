{
  "nbformat": 4,
  "nbformat_minor": 0,
  "metadata": {
    "colab": {
      "provenance": []
    },
    "kernelspec": {
      "name": "python3",
      "display_name": "Python 3"
    },
    "language_info": {
      "name": "python"
    }
  },
  "cells": [
    {
      "cell_type": "markdown",
      "source": [
        "This code extracts the saved NDVI data from Google Drive, reads the data into a data frame, processes the data to calculate percentages, and visualizes the results using pie charts. The workflow is explained as follows:\n",
        "\n",
        "Created on Tue July 3 2024\n",
        "\n",
        "# @author: Pius N.Nwachukwu"
      ],
      "metadata": {
        "id": "9US2b1dNptS0"
      }
    },
    {
      "cell_type": "code",
      "execution_count": null,
      "metadata": {
        "id": "v9ANoD5dw9Q7"
      },
      "outputs": [],
      "source": []
    },
    {
      "cell_type": "code",
      "source": [
        "# This plot the Pie Chart\n",
        "import matplotlib.pyplot as plt\n",
        "import pandas as pd\n",
        "import numpy as np"
      ],
      "metadata": {
        "id": "zW-5cAhexf5a"
      },
      "execution_count": null,
      "outputs": []
    },
    {
      "cell_type": "code",
      "source": [
        "# Change the URL to enable direct download. For example, if your shareable link is:\n",
        "# https://drive.google.com/file/d/FILE_ID/view?usp=sharing\n",
        "\n",
        "# https://drive.google.com/file/d/1YYoGccbeR0GQspEilTfv707JNZ-kNt4F/view?usp=sharing\n",
        "!curl -L \"https://drive.google.com/uc?export=download&id=1YYoGccbeR0GQspEilTfv707JNZ-kNt4F\" -o filename.extension"
      ],
      "metadata": {
        "id": "oKc-Wp9YxaCV"
      },
      "execution_count": null,
      "outputs": []
    },
    {
      "cell_type": "code",
      "source": [
        "# Replace 'your_direct_download_link' with the actual direct download link you obtained\n",
        "url = 'https://drive.google.com/uc?export=download&id=1RDhRK2shSwTZS7bSFdTHeGd3Y6pk0fqM'  # Example\n",
        "\n",
        "# Read the CSV file into a DataFrame\n",
        "df = pd.read_csv(url)\n",
        "\n",
        "# Display the DataFrame\n",
        "print(df)"
      ],
      "metadata": {
        "id": "XJTi0JoJxhy5"
      },
      "execution_count": null,
      "outputs": []
    },
    {
      "cell_type": "code",
      "source": [
        "\n",
        "# Group the data by continent and pixel quality and sum the NDVI pixels\n",
        "grouped_df = df.groupby(['Continent', 'Pixel_Quality'])['NDVI_Pixel'].sum().unstack()\n",
        "\n",
        "# Calculate the percentages of valid and invalid pixels\n",
        "percentages_df = grouped_df.div(grouped_df.sum(axis=1), axis=0) * 100\n",
        "\n",
        "# Plot the pie charts\n",
        "fig, axs = plt.subplots(len(percentages_df), 1, figsize=(8, 6 * len(percentages_df)))\n",
        "\n",
        "if len(percentages_df) == 1:\n",
        "    axs = [axs]  # Ensure axs is always a list\n",
        "\n",
        "colors = [plt.cm.tab10(i) for i in range(len(grouped_df.columns))]\n",
        "\n",
        "for ax, (continent, row) in zip(axs, percentages_df.iterrows()):\n",
        "    sizes = row.values\n",
        "    wedges, texts, autotexts = ax.pie(\n",
        "        sizes, labels=row.index, colors=colors, startangle=90,\n",
        "        autopct='%1.1f%%', wedgeprops=dict(edgecolor='w')\n",
        "    )\n",
        "    ax.set_title(f'Distribution of NDVI Pixels in {continent}', fontsize=14)  # Set font size for title\n",
        "    ax.set_aspect('equal')\n",
        "\n",
        "    # Customize font sizes of pie chart labels and percentages\n",
        "    for text in texts:\n",
        "        text.set_fontsize(14)  # Set font size for pie chart labels\n",
        "    for autotext in autotexts:\n",
        "        autotext.set_fontsize(14)  # Set font size for percentages\n",
        "\n",
        "plt.tight_layout()\n",
        "plt.show()\n"
      ],
      "metadata": {
        "id": "OZP9Su7gxJSI"
      },
      "execution_count": null,
      "outputs": []
    }
  ]
}